{
 "cells": [
  {
   "cell_type": "markdown",
   "id": "c0975684",
   "metadata": {},
   "source": [
    "This report aims to document the process of analyzing and forecasting time series of weather data using ARIMA and SARIMA models. The report includes a description of the code, the methodology used, and the results obtained.\n",
    "\n",
    "The code is used to analyze and forecast time series of weather data using ARIMA and SARIMA models."
   ]
  },
  {
   "cell_type": "code",
   "execution_count": 15,
   "id": "8044de17",
   "metadata": {},
   "outputs": [],
   "source": [
    "import numpy as np\n",
    "import pandas as pd\n",
    "import matplotlib.pyplot as plt\n",
    "import seaborn as sns\n",
    "from statsmodels.tsa.arima.model import ARIMA\n",
    "from statsmodels.tsa.statespace.sarimax import SARIMAX\n",
    "from sklearn.metrics import mean_squared_error\n",
    "from statsmodels.tsa.seasonal import seasonal_decompose\n",
    "from itertools import product\n",
    "from statsmodels.tsa.stattools import adfuller\n",
    "from statsmodels.graphics.tsaplots import plot_acf, plot_pacf\n",
    "import matplotlib as mpl\n",
    "from statsmodels.stats.diagnostic import acorr_ljungbox\n",
    "import warnings"
   ]
  },
  {
   "cell_type": "code",
   "execution_count": 16,
   "id": "b0f007cf",
   "metadata": {},
   "outputs": [],
   "source": [
    "mpl.rcParams['agg.path.chunksize'] = 10000\n",
    "warnings.filterwarnings(\"ignore\")\n",
    "plt.rcParams['figure.figsize'] = [15, 6]\n",
    "plt.rcParams['font.size'] = 12"
   ]
  },
  {
   "cell_type": "markdown",
   "id": "7e250ce0",
   "metadata": {},
   "source": [
    "Data Processing:\n",
    "\n",
    "Data was loaded from a CSV file and the date column was converted to datetime data type.\n",
    "\n",
    "Missing and duplicate values ​​were checked and handled using linear interpolation and duplicate row deletion.\n",
    "\n",
    "Data was segmented by region to analyze each region separately."
   ]
  },
  {
   "cell_type": "code",
   "execution_count": 17,
   "id": "f06b5812",
   "metadata": {},
   "outputs": [],
   "source": [
    "df = pd.read_csv('weather_data.csv')\n",
    "df['Date_Time'] = pd.to_datetime(df['Date_Time'])\n",
    "df.set_index('Date_Time', inplace=True)"
   ]
  },
  {
   "cell_type": "code",
   "execution_count": null,
   "id": "3c52cf83",
   "metadata": {},
   "outputs": [
    {
     "name": "stdout",
     "output_type": "stream",
     "text": [
      "القيم المفقودة لكل عمود:\n",
      "Location            0\n",
      "Temperature_C       0\n",
      "Humidity_pct        0\n",
      "Precipitation_mm    0\n",
      "Wind_Speed_kmh      0\n",
      "dtype: int64\n"
     ]
    }
   ],
   "source": [
    "\n",
    "print(\"Missing values ​​for each column :\")\n",
    "print(df.isnull().sum())"
   ]
  },
  {
   "cell_type": "code",
   "execution_count": null,
   "id": "abc82965",
   "metadata": {},
   "outputs": [
    {
     "name": "stdout",
     "output_type": "stream",
     "text": [
      "\n",
      "عدد الصفوف المتكررة: 0\n"
     ]
    }
   ],
   "source": [
    "\n",
    "print(\"\\n Number of repeating rows:\", df.duplicated().sum())"
   ]
  },
  {
   "cell_type": "code",
   "execution_count": 20,
   "id": "1a44e317",
   "metadata": {},
   "outputs": [],
   "source": [
    "def region_analyser(region):\n",
    "    data = df[df['Location'] == region]\n",
    "    return data.drop('Location', axis=1)"
   ]
  },
  {
   "cell_type": "markdown",
   "id": "fedfb9ae",
   "metadata": {},
   "source": [
    "Stability Analysis:\n",
    "\n",
    "ADF test was used to check the stability of the time series.\n",
    "If the time series is not stationary, the difference is applied to make it stationary.\n",
    "\n",
    "Correlation and Seasonality Analysis:\n",
    "\n",
    "ACF and PACF plots were used to determine the values ​​of p and q in ARIMA model.\n",
    "\n",
    "seasonal_decompose was used to analyze the seasonality in the data and determine the values ​​of P, D, Q in SARIMA model.\n",
    "\n",
    "ARIMA/SARIMA Modeling:\n",
    "\n",
    "A grid search was used to select the best values ​​of p, d, q, P, D, Q that achieve the lowest RMSE.\n",
    "\n",
    "SARIMA model was trained using the best values.\n",
    "\n",
    "The model was evaluated using RMSE.\n",
    "\n",
    "Residual Analysis:\n",
    "\n",
    "Residuals of the model were analyzed using histograms and Ljung-Box test to check their randomness and independence.\n",
    "\n",
    "Future Forecasting:\n",
    "\n",
    "SARIMA model was used to predict the future values ​​of the time series.\n",
    "\n",
    "Predictions were plotted with confidence intervals."
   ]
  },
  {
   "cell_type": "code",
   "execution_count": 21,
   "id": "365704cf",
   "metadata": {},
   "outputs": [],
   "source": [
    "def forecast_weather_advanced(region, feature, periods=30):\n",
    "    data = region_analyser(region)[feature]\n",
    "    data = data.interpolate(method='linear')\n",
    "    train_size = int(len(data) * 0.8)\n",
    "    train, test = data[:train_size], data[train_size:]\n",
    "\n",
    "    result = adfuller(train)\n",
    "    print(f'ADF Statistic: {result[0]}')\n",
    "    print(f'p-value: {result[1]}')\n",
    "    if result[1] > 0.05:\n",
    "        print('Series is not stationary')\n",
    "    else:\n",
    "        print('Series is stationary')\n",
    "\n",
    "    fig, axes = plt.subplots(1, 2, figsize=(18, 8))\n",
    "    plot_acf(train, ax=axes[0], lags=30, title='Autocorrelation Function (ACF)')\n",
    "    plot_pacf(train, ax=axes[1], lags=30, title='Partial Autocorrelation Function (PACF)')\n",
    "    axes[0].grid(True)\n",
    "    axes[1].grid(True)\n",
    "    plt.show()\n",
    "\n",
    "    decomposition = seasonal_decompose(train, model='additive', period=30)\n",
    "    decomposition.plot()\n",
    "    plt.show()\n",
    "\n",
    "    p = d = q = range(0, 3)\n",
    "    pdq = list(product(p, d, q))\n",
    "    P = D = Q = range(0, 2)\n",
    "    seasonal_pdq = list(product(P, D, Q, [30]))\n",
    "    best_rmse = float('inf')\n",
    "    best_order = None\n",
    "    best_seasonal_order = None\n",
    "\n",
    "    for order in pdq:\n",
    "        for seasonal_order in seasonal_pdq:\n",
    "            try:\n",
    "                model = SARIMAX(train, order=order, seasonal_order=seasonal_order)\n",
    "                model_fit = model.fit()\n",
    "                forecast = model_fit.forecast(steps=len(test))\n",
    "                rmse = np.sqrt(mean_squared_error(test, forecast))\n",
    "                if rmse < best_rmse:\n",
    "                    best_rmse = rmse\n",
    "                    best_order = order\n",
    "                    best_seasonal_order = seasonal_order\n",
    "            except:\n",
    "                continue\n",
    "\n",
    "    print(f'Best SARIMA Order: {best_order}, Seasonal Order: {best_seasonal_order}, Best RMSE: {best_rmse}')\n",
    "    model = SARIMAX(train, order=best_order, seasonal_order=best_seasonal_order)\n",
    "    model_fit = model.fit()\n",
    "\n",
    "    forecast = model_fit.get_forecast(steps=len(test))\n",
    "    forecast_values = forecast.predicted_mean\n",
    "    forecast_conf = forecast.conf_int()\n",
    "\n",
    "    rmse = np.sqrt(mean_squared_error(test, forecast_values))\n",
    "    print(f'RMSE for {feature} in {region}: {rmse}')\n",
    "\n",
    "    forecast_index = pd.date_range(start=test.index[0], periods=len(test), freq=test.index.freq)\n",
    "    forecast_series = pd.Series(forecast_values, index=forecast_index)\n",
    "\n",
    "    conf_df = pd.DataFrame(forecast_conf, index=forecast_index, columns=['lower', 'upper'])\n",
    "    lower_series = conf_df['lower']\n",
    "    upper_series = conf_df['upper']\n",
    "\n",
    "    plt.figure(figsize=(18, 8))\n",
    "    plt.plot(train, label='Training Data', linewidth=2)\n",
    "    plt.plot(test, label='Actual Test Data', linewidth=2)\n",
    "    plt.plot(forecast_series, label='Forecasted Data', color='red', linewidth=2)\n",
    "    plt.fill_between(forecast_index, lower_series, upper_series, color='pink', alpha=0.3, label='Confidence Interval')\n",
    "    plt.legend(fontsize=12)\n",
    "    plt.title(f'Weather Forecast for {feature} in {region}', fontsize=16)\n",
    "    plt.xlabel('Date', fontsize=12)\n",
    "    plt.ylabel(feature, fontsize=12)\n",
    "    plt.grid(True)\n",
    "    plt.show()\n",
    "\n",
    "    residuals = model_fit.resid\n",
    "    fig, ax = plt.subplots(2, 1, figsize=(18, 10))\n",
    "    residuals.plot(title=\"Residuals\", ax=ax[0], linewidth=2)\n",
    "    residuals.plot(title=\"Residuals Density\", kind='kde', ax=ax[1], linewidth=2)\n",
    "    ax[0].grid(True)\n",
    "    ax[1].grid(True)\n",
    "    plt.show()\n",
    "\n",
    "    lbvalue, pvalue = acorr_ljungbox(residuals, lags=[10])\n",
    "    print(f'Ljung-Box test p-value: {pvalue[0]}')\n",
    "\n",
    "    future_forecast = model_fit.get_forecast(steps=periods)\n",
    "    future_forecast_values = future_forecast.predicted_mean\n",
    "    future_conf = future_forecast.conf_int()\n",
    "    future_index = pd.date_range(start=data.index[-1], periods=periods, freq=data.index.freq)\n",
    "    future_series = pd.Series(future_forecast_values, index=future_index)\n",
    "\n",
    "    future_conf_df = pd.DataFrame(future_conf, index=future_index, columns=['lower', 'upper'])\n",
    "    future_lower_series = future_conf_df['lower']\n",
    "    future_upper_series = future_conf_df['upper']\n",
    "\n",
    "    plt.figure(figsize=(18, 8))\n",
    "    plt.plot(data, label='Historical Data', linewidth=2)\n",
    "    plt.plot(future_series, label='Future Forecast', color='green', linewidth=2)\n",
    "    plt.fill_between(future_index, future_lower_series, future_upper_series, color='lightgreen', alpha=0.3, label='Confidence Interval')\n",
    "    plt.legend(fontsize=12)\n",
    "    plt.title(f'Future Weather Forecast for {feature} in {region}', fontsize=16)\n",
    "    plt.xlabel('Date', fontsize=12)\n",
    "    plt.ylabel(feature, fontsize=12)\n",
    "    plt.grid(True)\n",
    "    plt.show()"
   ]
  },
  {
   "cell_type": "code",
   "execution_count": null,
   "id": "6c5349c9",
   "metadata": {},
   "outputs": [
    {
     "name": "stdout",
     "output_type": "stream",
     "text": [
      "ADF Statistic: -199.71820426440516\n",
      "p-value: 0.0\n",
      "Series is stationary\n"
     ]
    },
    {
     "data": {
      "image/png": "[encoded data removed]",
      "text/plain": [
       "<Figure size 1296x576 with 2 Axes>"
      ]
     },
     "metadata": {
      "needs_background": "light"
     },
     "output_type": "display_data"
    },
    {
     "data": {
      "image/png": "[encoded data removed]",
      "text/plain": [
       "<Figure size 1080x432 with 4 Axes>"
      ]
     },
     "metadata": {
      "needs_background": "light"
     },
     "output_type": "display_data"
    },
    {
     "ename": "MemoryError",
     "evalue": "Unable to allocate 588. MiB for an array with shape (31, 31, 80131) and data type float64",
     "output_type": "error",
     "traceback": [
      "\u001b[1;31m---------------------------------------------------------------------------\u001b[0m",
      "\u001b[1;31mMemoryError\u001b[0m                               Traceback (most recent call last)",
      "\u001b[1;32mstatsmodels/tsa/statespace/_kalman_smoother.pyx\u001b[0m in \u001b[0;36mstatsmodels.tsa.statespace._kalman_smoother.dKalmanSmoother.allocate_arrays\u001b[1;34m()\u001b[0m\n",
      "\u001b[1;31mMemoryError\u001b[0m: Unable to allocate 588. MiB for an array with shape (31, 31, 80131) and data type float64"
     ]
    },
    {
     "name": "stderr",
     "output_type": "stream",
     "text": [
      "Exception ignored in: 'statsmodels.tsa.statespace._kalman_smoother.dKalmanSmoother.reset_filter_method'\n",
      "Traceback (most recent call last):\n",
      "  File \"statsmodels/tsa/statespace/_kalman_smoother.pyx\", line 988, in statsmodels.tsa.statespace._kalman_smoother.dKalmanSmoother.allocate_arrays\n",
      "MemoryError: Unable to allocate 588. MiB for an array with shape (31, 31, 80131) and data type float64\n"
     ]
    }
   ],
   "source": [
    "\n",
    "forecast_weather_advanced('Chicago', 'Temperature_C')\n",
    "forecast_weather_advanced('New York', 'Precipitation_mm')"
   ]
  },
  {
   "cell_type": "markdown",
   "id": "1fb7dd8d",
   "metadata": {},
   "source": [
    " Results: \n",
    "\n",
    "SARIMA models were found to perform well in forecasting weather data.\n",
    "\n",
    "The stationarity of time series and randomness of residuals were verified.\n",
    "\n",
    "The forecasts were plotted with confidence intervals to illustrate the accuracy of the forecasts.\n",
    "\n",
    "Conclusions :\n",
    "\n",
    "SARIMA models can be used to forecast weather data with acceptable accuracy.\n",
    "\n",
    "Data processing, stability analysis, correlation and seasonality should be taken care of before training the models.\n",
    "\n",
    "The residuals of the models should be verified to ensure the validity of the results.\n",
    "\n",
    "Recommendations :\n",
    "\n",
    "The accuracy of the forecasts can be improved by using more complex models or adding external variables.\n",
    "\n",
    "Other machine learning techniques such as LSTM or GRU can be used to forecast weather data.\n",
    "\n",
    "Cross validation can be used to validate the results.\n",
    "I hope this technical report is useful."
   ]
  }
 ],
 "metadata": {
  "kaggle": {
   "accelerator": "none",
   "dataSources": [
    {
     "datasetId": 5036178,
     "sourceId": 8450780,
     "sourceType": "datasetVersion"
    }
   ],
   "dockerImageVersionId": 30698,
   "isGpuEnabled": false,
   "isInternetEnabled": true,
   "language": "python",
   "sourceType": "notebook"
  },
  "kernelspec": {
   "display_name": "base",
   "language": "python",
   "name": "python3"
  },
  "language_info": {
   "codemirror_mode": {
    "name": "ipython",
    "version": 3
   },
   "file_extension": ".py",
   "mimetype": "text/x-python",
   "name": "python",
   "nbconvert_exporter": "python",
   "pygments_lexer": "ipython3",
   "version": "3.8.5"
  },
  "papermill": {
   "default_parameters": {},
   "duration": 13.881742,
   "end_time": "2024-05-19T12:18:19.460872",
   "environment_variables": {},
   "exception": null,
   "input_path": "__notebook__.ipynb",
   "output_path": "__notebook__.ipynb",
   "parameters": {},
   "start_time": "2024-05-19T12:18:05.579130",
   "version": "2.5.0"
  }
 },
 "nbformat": 4,
 "nbformat_minor": 5
}
